{
 "cells": [
  {
   "cell_type": "code",
   "execution_count": 3,
   "metadata": {},
   "outputs": [
    {
     "name": "stdout",
     "output_type": "stream",
     "text": [
      "a89ff5a6313e5373b43607543c78929a\n"
     ]
    }
   ],
   "source": [
    "import secrets\n",
    "\n",
    "random = secrets.SystemRandom()\n",
    "print(random.randbytes(16).hex())\n",
    "\n",
    "# start flash server with: python3 -m flask --app main run\n",
    "# Note this only works when in the same dir.\n",
    "\n",
    "#org_working_dir = os.getcwd()\n",
    "#flask_working_dir = org_working_dir + \"/local_test_server\"\n",
    "#os.chdir(flask_working_dir)\n",
    "#instance = subprocess.Popen(\"python3 -m flask --app main run\", shell=True)\n",
    "#os.chdir(org_working_dir)"
   ]
  },
  {
   "cell_type": "code",
   "execution_count": 4,
   "metadata": {},
   "outputs": [
    {
     "name": "stdout",
     "output_type": "stream",
     "text": [
      "b'<p>Here, have a cookie!</p>'\n",
      "<RequestsCookieJar[<Cookie authtoken=eec852cad7a6919eb7a2ee30837a2eb6a255348f41033a1e4c1bb1889825af28138225774459f3b880816ec1e3272923933e53371d6b51b6c4b7f2f22e2645076707f6515b19a797748fd12f8e8634d2dd543632c9aaf18334bb093dceb52948def5f7900f64f7ebcd193425c4f0c00b for localhost.local/>]>\n"
     ]
    }
   ],
   "source": [
    "import requests\n",
    "\n",
    "\n",
    "r = requests.get(\"http://localhost:5000/\")\n",
    "print(r.content)\n",
    "print(r.cookies)"
   ]
  },
  {
   "cell_type": "code",
   "execution_count": 5,
   "metadata": {},
   "outputs": [
    {
     "name": "stdout",
     "output_type": "stream",
     "text": [
      "Token before: bc2342d7ceb4d182ff5c4281d2ebf28501879b5ca30423e4d833d4fb5fec92848ce679f41608b4682b06219d4b0a1113fd1b5dd42ff47e51bce6fac4b47f3126b7c1d7f72c06909cb45a3136e7e11ea532ab8c81dcdc0811624e143eea7074de5ec1149941fa3b568b1072ff54d0374e\n",
      "Token after: 6d6d6d6d6d6d6d6d01879b5ca30423e4d833d4fb5fec92848ce679f41608b4682b06219d4b0a1113fd1b5dd42ff47e51bce6fac4b47f3126b7c1d7f72c06909cb45a3136e7e11ea532ab8c81dcdc0811624e143eea7074de5ec1149941fa3b568b1072ff54d0374e\n",
      "b'Data must be padded to 16 byte boundary in CBC mode'\n"
     ]
    }
   ],
   "source": [
    "from time import sleep\n",
    "from requests import cookies\n",
    "\n",
    "#Get authtoken:\n",
    "r = requests.get(\"http://localhost:5000/\")\n",
    "authtoken: str = r.cookies[\"authtoken\"]\n",
    "\n",
    "#Manipulate authtoken:\n",
    "authtoken_bytes = bytearray.fromhex(authtoken)\n",
    "print(f'Token before: {authtoken_bytes.hex()}')\n",
    "# We try to change the 8 first bytes of padding to something different\n",
    "authtoken_bytes[0:16] = [0x6d for i in range(8)]#[authtoken_bytes[i] ^ 0x24 for i in range(8)]\n",
    "print(f'Token after: {authtoken_bytes.hex()}')\n",
    "\n",
    "# Request quote with the new token\n",
    "cookie = {\"authtoken\": authtoken_bytes.hex()}\n",
    "r = requests.get(\"http://localhost:5000/quote\", cookies=cookie)\n",
    "print(r.content)\n",
    "\n",
    "# We see that we get a error msg instead that reveals that we are in CBC mode the token is padded \n",
    "# to 16 bytes."
   ]
  },
  {
   "cell_type": "code",
   "execution_count": 9,
   "metadata": {},
   "outputs": [
    {
     "name": "stdout",
     "output_type": "stream",
     "text": [
      "Token before: bc2342d7ceb4d182ff5c4281d2ebf28501879b5ca30423e4d833d4fb5fec92848ce679f41608b4682b06219d4b0a1113fd1b5dd42ff47e51bce6fac4b47f3126b7c1d7f72c06909cb45a3136e7e11ea532ab8c81dcdc0811624e143eea7074de5ec1149941fa3b568b1072ff54d0374e\n",
      "Token after: 01879b5ca30423e4d833d4fb5fec928401879b5ca30423e4d833d4fb5fec92848ce679f41608b4682b06219d4b0a1113fd1b5dd42ff47e51bce6fac4b47f3126b7c1d7f72c06909cb45a3136e7e11ea532ab8c81dcdc0811624e143eea7074de5ec1149941fa3b568b1072ff54d0374e\n",
      "b\"'utf-8' codec can't decode byte 0xe4 in position 0: invalid continuation byte\"\n"
     ]
    }
   ],
   "source": [
    "#Manipulate authtoken:\n",
    "authtoken_bytes = bytearray.fromhex(authtoken)\n",
    "print(f'Token before: {authtoken_bytes.hex()}')\n",
    "# We try to change the 8 first bytes of padding to something different\n",
    "authtoken_bytes[0:16] = authtoken_bytes[16:32] #[authtoken_bytes[i] ^ 0x24 for i in range(8)]\n",
    "print(f'Token after: {authtoken_bytes.hex()}')\n",
    "\n",
    "# Request quote with the new token\n",
    "cookie = {\"authtoken\": authtoken_bytes.hex()}\n",
    "r = requests.get(\"http://localhost:5000/quote\", cookies=cookie)\n",
    "print(r.content)\n",
    "\n",
    "# Note when changing the 16 padding bytes we get a different error message with a decode instead."
   ]
  }
 ],
 "metadata": {
  "kernelspec": {
   "display_name": "Python 3",
   "language": "python",
   "name": "python3"
  },
  "language_info": {
   "codemirror_mode": {
    "name": "ipython",
    "version": 3
   },
   "file_extension": ".py",
   "mimetype": "text/x-python",
   "name": "python",
   "nbconvert_exporter": "python",
   "pygments_lexer": "ipython3",
   "version": "3.11.6"
  }
 },
 "nbformat": 4,
 "nbformat_minor": 2
}
