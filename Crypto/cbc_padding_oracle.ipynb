{
 "cells": [
  {
   "cell_type": "code",
   "execution_count": 2,
   "metadata": {},
   "outputs": [],
   "source": [
    "import requests\n",
    "from copy import copy\n",
    "\n",
    "# Establish baseline\n",
    "r = requests.get(\"http://localhost:5000\")\n",
    "ciphertext_baseline = r.cookies[\"authtoken\"]\n",
    "ciphertext_bytes_baseline = bytearray.fromhex(ciphertext_baseline)"
   ]
  },
  {
   "cell_type": "code",
   "execution_count": 17,
   "metadata": {},
   "outputs": [
    {
     "name": "stdout",
     "output_type": "stream",
     "text": [
      "Block size: 16\n"
     ]
    }
   ],
   "source": [
    "# Determine block size\n",
    "ciphertext_bytes = copy(ciphertext_bytes_baseline)\n",
    "\n",
    "def determine_block_size(ciphertext_bytes: bytearray):\n",
    "    count = 0\n",
    "    for i in range(len(ciphertext_bytes_baseline)):\n",
    "        ciphertext_bytes[i] ^= 0x01\n",
    "        cookie = {\"authtoken\": ciphertext_bytes.hex()}\n",
    "        r = requests.get(\"http://localhost:5000/quote\", cookies=cookie)\n",
    "        \n",
    "        if (r.content != b'No quote for you!'):\n",
    "            return count\n",
    "        \n",
    "        count += 1\n",
    "\n",
    "    return -1\n",
    "\n",
    "block_size = determine_block_size(ciphertext_bytes)\n",
    "print(f'Block size: {block_size}')"
   ]
  },
  {
   "cell_type": "markdown",
   "metadata": {},
   "source": [
    "Note when looking at the ciphertext we use the fact that the last block wont change other blocks since it's the last to find the block size. This means that changes in the cipher here shouldn't result in a change in the rest of the cipher when decoding and therefore it should be able to decode still.\n",
    "\n",
    "A change in the other parts should change more of the ciphertext resulting in a decode failure."
   ]
  },
  {
   "cell_type": "code",
   "execution_count": 46,
   "metadata": {},
   "outputs": [
    {
     "name": "stdout",
     "output_type": "stream",
     "text": [
      "7\n"
     ]
    },
    {
     "ename": "Exception",
     "evalue": "no valid padding byte found",
     "output_type": "error",
     "traceback": [
      "\u001b[0;31m---------------------------------------------------------------------------\u001b[0m",
      "\u001b[0;31mException\u001b[0m                                 Traceback (most recent call last)",
      "Cell \u001b[0;32mIn[46], line 50\u001b[0m\n\u001b[1;32m     47\u001b[0m         \u001b[38;5;28mprint\u001b[39m(i)\n\u001b[1;32m     48\u001b[0m         \u001b[38;5;28;01mbreak\u001b[39;00m\n\u001b[0;32m---> 50\u001b[0m     \u001b[38;5;28;01mraise\u001b[39;00m \u001b[38;5;167;01mException\u001b[39;00m(\u001b[38;5;124m\"\u001b[39m\u001b[38;5;124mno valid padding byte found\u001b[39m\u001b[38;5;124m\"\u001b[39m)\n\u001b[1;32m     52\u001b[0m zero_iv[\u001b[38;5;241m-\u001b[39m(i_block_byte \u001b[38;5;241m+\u001b[39m \u001b[38;5;241m1\u001b[39m)] \u001b[38;5;241m=\u001b[39m i \u001b[38;5;241m^\u001b[39m i_block_byte\n",
      "\u001b[0;31mException\u001b[0m: no valid padding byte found"
     ]
    }
   ],
   "source": [
    "def oracle(block: bytearray, iv: bytearray, ciphertext_bytes: bytearray):\n",
    "    block = int.to_bytes(int.from_bytes(block) ^ int.from_bytes(iv), length=block_size)\n",
    "    start_end = block_count * block_size - block_size * (i_block + 1)\n",
    "    end_start = block_count * block_size - block_size * i_block\n",
    "\n",
    "    ciphertext_bytes = ciphertext_bytes[:start_end] + block + ciphertext_bytes[end_start:]\n",
    "\n",
    "    cookie = {\"authtoken\": ciphertext_bytes.hex()}\n",
    "    r = requests.get(\"http://localhost:5000/quote\", cookies=cookie)\n",
    "\n",
    "    #print(r.content)\n",
    "        \n",
    "    if (r.content == b'Padding is incorrect.' or r.content == b'PKCS#7 padding is incorrect.' or r.content == b'No quote for you!'):\n",
    "        return False\n",
    "    else:\n",
    "        return True\n",
    "        \n",
    "\n",
    "\n",
    "\n",
    "zero_iv = [0] * block_size\n",
    "\n",
    "ciphertext_bytes = copy(ciphertext_bytes_baseline)\n",
    "\n",
    "block_count = len(ciphertext_bytes) // block_size\n",
    "print(block_count)\n",
    "\n",
    "block = ciphertext_bytes[-16:]\n",
    "i_block = 0\n",
    "\n",
    "flag_found = False\n",
    "\n",
    "for i_block_byte in range(block_size):\n",
    "    padding_iv = [i_block_byte ^ b for b in zero_iv]\n",
    "\n",
    "    for i in range(256):\n",
    "        padding_iv[-(i_block_byte + 1)] = i\n",
    "\n",
    "        iv = bytes(padding_iv)\n",
    "\n",
    "        #print(len(ciphertext_bytes))\n",
    "\n",
    "        if (oracle(block, iv, ciphertext_bytes)):\n",
    "            if i_block_byte == 0:\n",
    "                padding_iv[-2] ^= 1\n",
    "\n",
    "                if not oracle(block, iv, ciphertext_bytes):\n",
    "                    continue\n",
    "            flag_found = True\n",
    "            print(i)\n",
    "            break\n",
    "\n",
    "    if (not flag_found):\n",
    "        raise Exception(\"no valid padding byte found\")\n",
    "    else:\n",
    "        flag_found = False\n",
    "    zero_iv[-(i_block_byte + 1)] = i ^ i_block_byte\n"
   ]
  }
 ],
 "metadata": {
  "kernelspec": {
   "display_name": "Python 3",
   "language": "python",
   "name": "python3"
  },
  "language_info": {
   "codemirror_mode": {
    "name": "ipython",
    "version": 3
   },
   "file_extension": ".py",
   "mimetype": "text/x-python",
   "name": "python",
   "nbconvert_exporter": "python",
   "pygments_lexer": "ipython3",
   "version": "3.11.6"
  }
 },
 "nbformat": 4,
 "nbformat_minor": 2
}
