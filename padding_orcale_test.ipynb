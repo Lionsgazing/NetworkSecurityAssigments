{
 "cells": [
  {
   "cell_type": "code",
   "execution_count": 2,
   "metadata": {},
   "outputs": [],
   "source": [
    "%reload_ext autoreload\n",
    "%autoreload 2"
   ]
  },
  {
   "cell_type": "code",
   "execution_count": 133,
   "metadata": {},
   "outputs": [
    {
     "name": "stdout",
     "output_type": "stream",
     "text": [
      "Block 1:           \u001b[92ma7ad7ffefef6177545290cd3a7e75eb3\u001b[0;0m                                                                                                                                                                         \n",
      "DEC-Block 1:       \u001b[92mb7bd6feeeee6076555391cc3b7f74ea3\u001b[0m\n",
      "Plaintext-Block 1: \u001b[92m596f75206e6576657220666967757265\u001b[0m\n",
      "------------------------------------------------------------\n",
      "Block 2:           \u001b[92m87a51c815a2ab18c797b610d92d5975b\u001b[0;0m                                                                                                                                                                         \n",
      "DEC-Block 2:       \u001b[92m97b50c914a3aa19c696b711d82c5874b\u001b[0m\n",
      "Plaintext-Block 2: \u001b[92m206f757420746861742022492073686f\u001b[0m\n",
      "------------------------------------------------------------\n",
      "Block 3:           \u001b[92mb5a6eed1bcdec12fc29bf145b74d6e5b\u001b[0;0m                                                                                                                                                                         \n",
      "DEC-Block 3:       \u001b[92ma5b6fec1acced13fd28be155a75d7e4b\u001b[0m\n",
      "Plaintext-Block 3: \u001b[92m756c6420686176652075736564206175\u001b[0m\n",
      "------------------------------------------------------------\n",
      "Block 4:           \u001b[92m9c51935c4a7a98371e4d0cc8799b4e5f\u001b[0;0m                                                                                                                                                                         \n",
      "DEC-Block 4:       \u001b[92m8c41834c5a6a88270e5d1cd8698b5e4f\u001b[0m\n",
      "Plaintext-Block 4: \u001b[92m7468656e7469636174656420656e6372\u001b[0m\n",
      "------------------------------------------------------------\n",
      "Block 5:           \u001b[92m610d10f23ab72f7a61bc52406ed4399b\u001b[0;0m                                                                                                                                                                         \n",
      "DEC-Block 5:       \u001b[92m711d00e22aa73f6a71ac42507ec4298b\u001b[0m\n",
      "Plaintext-Block 5: \u001b[92m797074696f6e2062656361757365202e\u001b[0m\n",
      "------------------------------------------------------------\n",
      "Block 6:           \u001b[92mdcc351303980afe9bbc990b72903da89\u001b[0;0m                                                                                                                                                                         \n",
      "DEC-Block 6:       \u001b[92mccd341202990bff9abd980a73913ca99\u001b[0m\n",
      "Plaintext-Block 6: \u001b[92m2e2e222e203a29090909090909090909\u001b[0m\n",
      "------------------------------------------------------------\n"
     ]
    },
    {
     "data": {
      "text/plain": [
       "b'You never figure out that \"I should have used authenticated encryption because ...\". :)\\t\\t\\t\\t\\t\\t\\t\\t\\t'"
      ]
     },
     "execution_count": 133,
     "metadata": {},
     "output_type": "execute_result"
    }
   ],
   "source": [
    "from padding_oracle import CBCPaddingOracle\n",
    "import requests\n",
    "\n",
    "def oracle(iv: bytes, block: bytes):\n",
    "    # Create token with the iv and block\n",
    "    token = iv + block\n",
    "\n",
    "    # Create request and attach cookie with token\n",
    "    cookie = {\"authtoken\": token.hex()}\n",
    "    r = requests.get(\"http://localhost:5000/quote\", cookies=cookie)\n",
    "    # \n",
    "    # Check response\n",
    "    if (r.content == b'Padding is incorrect.' or r.content == b'PKCS#7 padding is incorrect.' or  r.content == b'Zero-length input cannot be unpadded'): #r.content == b'No quote for you!' or\n",
    "        return False\n",
    "    else:\n",
    "        return True\n",
    "\n",
    "\n",
    "# Establish baseline\n",
    "r = requests.get(\"http://localhost:5000\")\n",
    "ciphertext_str = r.cookies[\"authtoken\"]\n",
    "ciphertext_bytes = bytearray.fromhex(ciphertext_str)\n",
    "\n",
    "breaker = CBCPaddingOracle(ciphertext_bytes, 16, oracle)\n",
    "print(breaker.attack())"
   ]
  }
 ],
 "metadata": {
  "kernelspec": {
   "display_name": "Python 3",
   "language": "python",
   "name": "python3"
  },
  "language_info": {
   "codemirror_mode": {
    "name": "ipython",
    "version": 3
   },
   "file_extension": ".py",
   "mimetype": "text/x-python",
   "name": "python",
   "nbconvert_exporter": "python",
   "pygments_lexer": "ipython3",
   "version": "3.12.1"
  }
 },
 "nbformat": 4,
 "nbformat_minor": 2
}
